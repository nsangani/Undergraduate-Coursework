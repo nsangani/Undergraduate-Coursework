{
 "cells": [
  {
   "cell_type": "code",
   "execution_count": null,
   "metadata": {},
   "outputs": [],
   "source": [
    "#1. Solutions follow logical flow, are neatly organized, and commented appropriately (10 points)\n",
    "# all import statements should go here (5 points)\n",
    "import pandas as pd\n",
    "import matplotlib.pyplot as plt\n",
    "import seaborn as sns\n",
    "import numpy as np\n",
    "import random"
   ]
  },
  {
   "cell_type": "code",
   "execution_count": null,
   "metadata": {},
   "outputs": [],
   "source": [
    "#2. Write a program that asks the user to input a 7-digit number, do a for loop to \n",
    "# iterate through each digit and print the sum of those digits. (3 points)\n",
    "\n",
    "num = str(input(\"Please enter positive 7-digit numbers: \"))\n",
    "\n",
    "def total(s):\n",
    "    total = 0\n",
    "    for i in s:\n",
    "        i = int(i)\n",
    "        total += i\n",
    "    return total\n",
    "print(total(num))"
   ]
  },
  {
   "cell_type": "code",
   "execution_count": null,
   "metadata": {},
   "outputs": [],
   "source": [
    "#3 Write a program to print all the positive even number that are less than 11. (3 points)\n",
    "\n",
    "for i in range(0,20):\n",
    "    if i % 2 == 0 and i <= 11:\n",
    "        print(i)       "
   ]
  },
  {
   "cell_type": "code",
   "execution_count": null,
   "metadata": {},
   "outputs": [],
   "source": [
    "#4 Write a program that reverses a string that is entered by the user, by using a for loop. (3 points)\n",
    "\n",
    "str = input('Enter a string: ')\n",
    "rev = ''\n",
    "for i in str:\n",
    "    rev = i + rev\n",
    "    \n",
    "print(rev)"
   ]
  },
  {
   "cell_type": "code",
   "execution_count": null,
   "metadata": {},
   "outputs": [],
   "source": [
    "#5 Write a program to output all numbers (from 0 to 50) that are divisible by 3. (3 points)\n",
    "\n",
    "for val in range(0,50):\n",
    "    if val%3 == 0:\n",
    "        print(val)"
   ]
  },
  {
   "cell_type": "code",
   "execution_count": null,
   "metadata": {},
   "outputs": [],
   "source": [
    "#6 Write a program that asks the user to input 10 integers, and then prints \n",
    "#the last odd number that was entered. If no odd number is entered, it should \n",
    "#print a message to that effect. (4 points)\n",
    "\n",
    "num = input(\"Please enter 10 integers: \")\n",
    "num = list(map(int,num))\n",
    "\n",
    "odd_num = []\n",
    "for i in num:\n",
    "    if i%2 != 0:\n",
    "        odd_num.append(i)\n",
    "        \n",
    "print(odd_num[len(odd_num)-1])"
   ]
  },
  {
   "cell_type": "code",
   "execution_count": null,
   "metadata": {},
   "outputs": [],
   "source": [
    "#7 Write a python function which calculates the product of all integers in a list. \n",
    "#Write additional statements that calls this function \n",
    "#and passes the list - [3,4,5,6,5.5,10.1234]. (4 points)\n",
    "\n",
    "num = [3,4,5,6,5.5,10.1234]\n",
    "def product(list_num):\n",
    "    \"\"\"Takes a list and gives product of the numbers\"\"\"\n",
    "    result = 1\n",
    "    for i in num:\n",
    "        result = result*i       \n",
    "    return result\n",
    "\n",
    "print(product(num))"
   ]
  },
  {
   "cell_type": "code",
   "execution_count": null,
   "metadata": {},
   "outputs": [],
   "source": [
    "#8 Create tuples with the values – informatics, spring, semester, I210, 2020, 74, students \n",
    "#and print each value using for loop. (3 point)\n",
    "\n",
    "val = 'informatics', 'spring', 'semester', 'I210', '2020', '74', 'students'\n",
    "\n",
    "tup = []\n",
    "for i in val:\n",
    "    tup.append(i)\n",
    "    \n",
    "tup = tuple(tup)\n",
    "print(tup)"
   ]
  },
  {
   "cell_type": "code",
   "execution_count": null,
   "metadata": {},
   "outputs": [],
   "source": [
    "#9 for the given lists, show the value equality, \n",
    "#object equality and print id for each of the lists. (5 points)\n",
    "l1 = ['student','python', 'script']\n",
    "l2 = ['student','java','program']\n",
    "\n",
    "#Value of Object Check\n",
    "if l1 == l2:\n",
    "    print('True')\n",
    "else:\n",
    "    print('False')\n",
    "\n",
    "#Object in Memory Check\n",
    "if l1 is l2: \n",
    "    print('True')\n",
    "else:\n",
    "    print('False')\n",
    "    \n",
    "print(id(l1))\n",
    "print(id(l2))"
   ]
  },
  {
   "cell_type": "code",
   "execution_count": null,
   "metadata": {},
   "outputs": [],
   "source": [
    "#10 Write a python program which does the following: (7 points)\n",
    "#a. add items in list3 to list2\n",
    "#b. Remove burns from list3\n",
    "#c. Insert sam at 5th position of the 3 lists combined\n",
    "#d. Sort the elements of the combined list in ascending order\n",
    "list1 = ['smith', 'john', 'andy'] \n",
    "list2 = ['kim', 'mary', 'paul']\n",
    "list3 = ['burns', 'venu', 'asha']\n",
    "def combine(a,b):\n",
    "    \"\"\"Combines a and b list together\"\"\"\n",
    "    a = a + b\n",
    "    return(a)\n",
    "print(combine(list2,list3))\n",
    "\n",
    "def remove(a,b):\n",
    "    \"\"\"Removes item b from list a.\"\"\"\n",
    "    for i in a:\n",
    "        if i == b:\n",
    "            a.remove(i)\n",
    "    return a\n",
    "print(remove(list3,'burns'))\n",
    "\n",
    "def combine_replace(a,b,c, new_word):\n",
    "    \"\"\"Combines list a,b,and ,c and replace 5th position value to new_word \"\"\"\n",
    "    d = a+b+c\n",
    "    d[4] == new_word\n",
    "    return d\n",
    "list = combine_replace(list1,list2,list3,'sam')\n",
    "print(list)\n",
    "\n",
    "def sort_l(t):\n",
    "    \"\"\"Sort the list t in ascending order\"\"\"\n",
    "    t.sort()\n",
    "    return t\n",
    "print(sort_l(list))"
   ]
  },
  {
   "cell_type": "code",
   "execution_count": null,
   "metadata": {},
   "outputs": [],
   "source": [
    "#11 Write a python program to calculate the square root of a user input \n",
    "#using the sqrt method from the math module (5 points)\n",
    "\n",
    "def square_root(val):\n",
    "    \"\"\"Takes an integer value and results the squareroot of it\"\"\"\n",
    "    return val**0.5\n",
    "\n",
    "num = float(input('Please enter a value to be square_rooted: '))\n",
    "print(square_root(num))"
   ]
  },
  {
   "cell_type": "code",
   "execution_count": null,
   "metadata": {},
   "outputs": [],
   "source": [
    "#12 Write a python program which does the following: (7 points)\n",
    "#a) for the above string calculate the number of times \"sam\" appears in the tuple\n",
    "#b) change sam with smith\n",
    "#c) print index of johnny\n",
    "friends = ('sam','sam','johnny','andy','john','sam','mary')  \n",
    "\n",
    "sum = 0\n",
    "for i in friends:\n",
    "    if i == 'sam':\n",
    "        sum += 1\n",
    "print(sum)\n",
    "\n",
    "#tulpes are immutable therefore covert to list and then replace\n",
    "out = [t for t in friends] \n",
    "for n,i in enumerate(out):\n",
    "    if i == 'sam':\n",
    "        out[n] = 'smith'\n",
    "print(out)\n",
    "\n",
    "print(friends.index('johnny'))\n"
   ]
  },
  {
   "cell_type": "code",
   "execution_count": null,
   "metadata": {},
   "outputs": [],
   "source": [
    "#13 for the given dictionary, write a program that does the following (5 points):\n",
    "#a) print all keys      b)  print all values     c) calculate length\n",
    "dict = {'v1':100,'v2':54,'v3':247, 'v4':100,'v5':54,'v6':247} \n",
    "\n",
    "print(dict.keys())\n",
    "print(dict.values())\n",
    "print(len(dict))"
   ]
  },
  {
   "cell_type": "code",
   "execution_count": null,
   "metadata": {},
   "outputs": [],
   "source": [
    "#14 Write a Python program to do the following (10 points): \n",
    " #Take two numbers from the user in separate inputs. \n",
    "    #and then perform addition, subtraction, multiplication and division calculations on 2 numbers.\n",
    " #Consider the possibility of input errors (i.e. divisor is 0? \n",
    "    #user entered string instead of numbers? user entered float?) \n",
    "    #Use try and except to handle the 2 exceptions by outputting statements that \n",
    "    #indicate related errors.  \n",
    "while True:\n",
    "    try:\n",
    "        num_1 = float(input(\"Enter one number: \"))\n",
    "        num_2 = float(input(\"Enter another number: \"))\n",
    "        break\n",
    "        print(num_1+num_2)\n",
    "        print(num_1-num_2)\n",
    "        print(num_1/num_2)\n",
    "    except (RuntimeError, TypeError, NameError):\n",
    "         print('Try another number')\n"
   ]
  },
  {
   "cell_type": "code",
   "execution_count": null,
   "metadata": {},
   "outputs": [],
   "source": [
    "#15 From the two statements given below, using list comprehension, create the list1 \n",
    "#(i.e. the characters from v which are in w): list1 = ['e','o'] (5 points) \n",
    "w = 'hello'\n",
    "v = ('a', 'e', 'i', 'o', 'u')\n",
    "\n",
    "list1 = [i for i in v if i in w]\n",
    "print(list1)"
   ]
  },
  {
   "cell_type": "code",
   "execution_count": null,
   "metadata": {},
   "outputs": [],
   "source": [
    "#16 Write a function that returns the mean of a list that is passed as formal argument to a function. \n",
    "#Create a list with values [10, 56.7, 56, 89, 100, 99, 87.5, 34, 985, 10] and pass it \n",
    "#to the above defined function. Print the mean of the list of values (5 points)\n",
    "\n",
    "val = [10, 56.7, 56, 89, 100, 99, 87.5, 34, 985, 10]\n",
    "\n",
    "def mean(l):\n",
    "    m = (total(val)/len(val))\n",
    "    return (m)\n",
    "print(mean(val))"
   ]
  },
  {
   "cell_type": "code",
   "execution_count": null,
   "metadata": {},
   "outputs": [],
   "source": [
    "#17  Write a Python program to generate the plot found at the link below (8 points)\n",
    "# https://iu.instructure.com/files/100390842/download?download_frd=1\n",
    "\n",
    "x = []\n",
    "y = []\n",
    "for i in range(11):\n",
    "    x.append(i)\n",
    "    y.append(i)\n",
    "\n",
    "plt.plot(x,y, label = 'Linear')\n",
    "plt.legend(loc=\"upper right\")\n",
    "plt.show()"
   ]
  },
  {
   "cell_type": "code",
   "execution_count": null,
   "metadata": {},
   "outputs": [],
   "source": [
    "#18 Plot a pie chart using the following information using appropriate labels \n",
    "#and different colors (10 points)\n",
    "labels = ['I501', 'B530', 'B535', 'B581', 'B583']\n",
    "students = [23,17,35,29,12]\n",
    "\n",
    "\n",
    "fig = plt.figure()\n",
    "ax = fig.add_axes([0,0,1,1])\n",
    "ax.axis('equal')\n",
    "ax.pie(students, labels = labels,autopct='%1.2f%%')\n",
    "plt.show()"
   ]
  },
  {
   "cell_type": "code",
   "execution_count": null,
   "metadata": {},
   "outputs": [],
   "source": [
    "#19 Create a pie chart like the one linked below, with labels: A, B, C, D, E; \n",
    "# and the numbers associated with each label is: 3, 12, 16, 2, 5 respectively. \n",
    "# Give each part a different color (not required to be same as shown), \n",
    "# a title “Delicious Pie Chart”, list labels on the chart. (8 points)\n",
    "# https://iu.instructure.com/files/100391511/download?download_frd=1\n",
    "\n",
    "labels = ['A', 'B', 'C', 'D', 'E']\n",
    "sizes = [3, 12, 16, 2, 5]\n",
    "colors = [\"#1f77b4\", \"#ff7f0e\", \"#2ca02c\", \"#d62728\", \"#9467bd\"]\n",
    "\n",
    "fig, ax = plt.subplots()\n",
    "ax.pie(sizes, labels=labels, colors = colors, startangle=0)\n",
    "ax.set_aspect('equal')\n",
    "plt.title(\"Delicious Pie Chart\")\n",
    "plt.show()"
   ]
  },
  {
   "cell_type": "code",
   "execution_count": null,
   "metadata": {},
   "outputs": [],
   "source": [
    "#20 The scores from a class test are as follows: five students scored 12, \n",
    "# three students scored 60, four students scored 72, six students scored 100 marks. \n",
    "# Write a Python program to print the Mean, Median, Variance and Standard deviation of the scores \n",
    "# Using the numpy library (8 points)\n",
    "\n",
    "x = [5,3,4,6]\n",
    "y = [12,60,72,100]\n",
    "A = np.array([[12,12,12,12,12,60,60,60,72,72,72,72,100,100,100,100,100,100]])\n",
    "\n",
    "print(np.mean(A))\n",
    "print(np.median(A))\n",
    "print(np.var(A))"
   ]
  },
  {
   "cell_type": "code",
   "execution_count": null,
   "metadata": {},
   "outputs": [],
   "source": [
    "#21 Following list represents the frequency of the weights of 25 students in a team:\n",
    "# Write a python program to create a histogram (using pyplot) for the above table. (12 points)\n",
    "weights = [88,88,88,88,76,76,76,65,65,65,65,65,96,96,52,52,52,52,52,98,98,102,102,102,102]\n",
    "\n",
    "plt.hist(weights, bins=10)\n",
    "plt.xlabel('weight')\n",
    "plt.ylabel('frequency')\n",
    "plt.show()"
   ]
  },
  {
   "cell_type": "code",
   "execution_count": null,
   "metadata": {},
   "outputs": [],
   "source": [
    "#22 For the weights data below, write a Python program to create a dictionary, \n",
    "# which maps the values to their frequencies and calculates the probability \n",
    "# of each weight using their frequencies. (12 points)\n",
    "weights = [88,88,88,88,76,76,76,65,65,65,65,65,96,96,52,52,52,52,52,98,98,102,102,102,102]\n",
    "\n",
    "freq = {}  #weight : frequency of the weight\n",
    "for item in weights: \n",
    "    if (item in freq): \n",
    "        freq[item] += 1\n",
    "    else: \n",
    "        freq[item] = 1\n",
    "print(freq)\n",
    "\n",
    "total_weights = 25\n",
    "prob = {}  #Weight : probablity of this weight\n",
    "for k,v in freq.items():\n",
    "    if k in prob:\n",
    "        prob[k]/total_weights\n",
    "    else:\n",
    "        prob[k] = 25\n",
    "print(prob)"
   ]
  },
  {
   "cell_type": "code",
   "execution_count": null,
   "metadata": {},
   "outputs": [],
   "source": [
    "#23 Write a stochastic (random) function in Python to replicate a fair dice \n",
    "# (one dice) roll, such that this one dice is rolled 100 times. \n",
    "# Display the output of the dice rolls as a histogram. (12 points)\n",
    "\n",
    "num = []\n",
    "def roll():\n",
    "    return random.choice([1,2,3,4,5,6])\n",
    "\n",
    "for i in range(100):\n",
    "    num.append(roll())\n",
    "  \n",
    "print(num)\n",
    "plt.hist(num, bins = 15)\n",
    "plt.show()"
   ]
  },
  {
   "cell_type": "code",
   "execution_count": null,
   "metadata": {},
   "outputs": [],
   "source": [
    "#24 Download the file at this link:\n",
    "# https://iu.instructure.com/files/100392796/download?download_frd=1\n",
    "# Connect to PHPMyAdmin, then open your database and select Import\n",
    "# Choose the world.sql file, then press the Go button.\n",
    "# You should now have 3 new tables - city, country, and countrylanguage\n",
    "# Take a moment to review the format of these tables and some of the data within.\n",
    "\n",
    "# Write a python program that connects to the MySQL database, \n",
    "# which has the three tables from the world.sql script. \n",
    "# Query and retrieve the top 20 countries by GNP \n",
    "# Display a bar chart of the top 20 countries by descending GNP (25 points)\n",
    "\n",
    "!pip3 install ipython-sql --user\n",
    "!pip3 install mysql-connector --user\n",
    "!pip3 install mysql --user\n",
    "\n",
    "import mysql\n",
    "import mysql.connector\n",
    "\n",
    "mydb = mysql.connector.connect(\n",
    "  host=\"localhost\",\n",
    "  user=\"nsangani\",\n",
    "  passwd=\"nsangani\",\n",
    "  database=\"nsangani_db\"\n",
    ")"
   ]
  },
  {
   "cell_type": "code",
   "execution_count": null,
   "metadata": {},
   "outputs": [],
   "source": [
    "mycursor = mydb.cursor(buffered=True)\n",
    "\n",
    "mycursor.execute('SELECT * FROM city')\n",
    "city = mycursor.fetchall() "
   ]
  },
  {
   "cell_type": "code",
   "execution_count": null,
   "metadata": {},
   "outputs": [],
   "source": [
    "mycursor.execute('SELECT * FROM countrylanguage')\n",
    "countrylanguage = mycursor.fetchall() "
   ]
  },
  {
   "cell_type": "code",
   "execution_count": null,
   "metadata": {},
   "outputs": [],
   "source": [
    "mycursor.execute('SELECT * FROM customers')\n",
    "customers = mycursor.fetchall()"
   ]
  },
  {
   "cell_type": "code",
   "execution_count": null,
   "metadata": {},
   "outputs": [],
   "source": [
    "mycursor.execute('SELECT * FROM country')\n",
    "country = mycursor.fetchall()"
   ]
  },
  {
   "cell_type": "code",
   "execution_count": null,
   "metadata": {},
   "outputs": [],
   "source": [
    "# Query and retrieve the top 20 countries by GNP \n",
    "mycursor.execute('SELECT Name FROM country as c order by c.GNP desc limit 30;')\n",
    "top = mycursor.fetchall()\n",
    "print(top)"
   ]
  },
  {
   "cell_type": "code",
   "execution_count": null,
   "metadata": {},
   "outputs": [],
   "source": [
    "# Display a bar chart of the top 20 countries by descending GNP\n",
    "gap = pd.read_csv('country.csv', names = ['Code','Name','Continent','Region','Region',\"SurfaceArea\",'IndepYear','Population','LifeExpectancy','GNP','LocalName','GovernmantForm','HeadOfState','Capital','Code2'], index_col=0)\n",
    "gap.head()"
   ]
  },
  {
   "cell_type": "code",
   "execution_count": null,
   "metadata": {},
   "outputs": [],
   "source": [
    "gap.groupby([\"Name\"], as_index=True)['GNP'].max().sort_values(ascending=False)[:30].plot.bar().set_xlabel(\"Country\")"
   ]
  },
  {
   "cell_type": "code",
   "execution_count": null,
   "metadata": {},
   "outputs": [],
   "source": [
    "#25 Read and extract data from the file studentdata.csv file linked below\n",
    "# https://iu.instructure.com/files/100393017/download?download_frd=1\n",
    "# Calculate the BMI using formula BMI=weight/(height)2. \n",
    "# Create a plot of age versus BMI with appropriate labels and title. (20 Points)\n",
    "\n",
    "studentdata = pd.read_csv('studentdata.csv')\n",
    "studentdata.head()"
   ]
  },
  {
   "cell_type": "code",
   "execution_count": null,
   "metadata": {},
   "outputs": [],
   "source": [
    "# Calculate the BMI using formula BMI=weight/(height)2. \n",
    "BMI = (studentdata['weight'])/studentdata['height']*2\n",
    "print(BMI)"
   ]
  },
  {
   "cell_type": "code",
   "execution_count": null,
   "metadata": {},
   "outputs": [],
   "source": [
    "# Create a plot of age versus BMI with appropriate labels and title. \n",
    "#figure and axis \n",
    "fig, ax = plt.subplots()\n",
    "\n",
    "#applies to two lists to pair the values\n",
    "ax.scatter(studentdata['age'],BMI)\n",
    "\n",
    "#set title and labels\n",
    "ax.set_title('age VS BMI')\n",
    "ax.set_xlabel('age')\n",
    "ax.set_ylabel('BMI')"
   ]
  }
 ],
 "metadata": {
  "kernelspec": {
   "display_name": "Python 3 (ipykernel)",
   "language": "python",
   "name": "python3"
  },
  "language_info": {
   "codemirror_mode": {
    "name": "ipython",
    "version": 3
   },
   "file_extension": ".py",
   "mimetype": "text/x-python",
   "name": "python",
   "nbconvert_exporter": "python",
   "pygments_lexer": "ipython3",
   "version": "3.9.12"
  }
 },
 "nbformat": 4,
 "nbformat_minor": 2
}
