{
 "cells": [
  {
   "cell_type": "code",
   "execution_count": null,
   "metadata": {},
   "outputs": [],
   "source": [
    "#pip installs, run these the first time. Then you shouldn't need to run them after.\n",
    "!pip3 install ipython-sql --user\n",
    "!pip3 install mysql-connector --user\n",
    "!pip3 install mysql --user"
   ]
  },
  {
   "cell_type": "code",
   "execution_count": 51,
   "metadata": {},
   "outputs": [],
   "source": [
    "#get all the data into a dictionary and a list\n",
    "#Starting the database connection and setting up connection values\n",
    "import mysql\n",
    "import mysql.connector\n",
    "\n",
    "mydb = mysql.connector.connect(\n",
    "  host=\"localhost\",\n",
    "  user=\"nsangani\",\n",
    "  passwd=\"nsangani\",\n",
    "  database=\"nsangani_db\"\n",
    ")\n",
    "\n",
    "#create a new 'cursor' object to run commands\n",
    "mycursor = mydb.cursor(buffered=True)"
   ]
  },
  {
   "cell_type": "code",
   "execution_count": 2,
   "metadata": {},
   "outputs": [
    {
     "name": "stdout",
     "output_type": "stream",
     "text": [
      "MySQLCursorBuffered: CREATE TABLE persons (id int PRIMARY KEY..\n"
     ]
    }
   ],
   "source": [
    "#execute SQL commands using the cursor\n",
    "mycursor.execute(\"CREATE TABLE persons (id int PRIMARY KEY AUTO_INCREMENT,last_name varchar(255),first_name varchar(255),age int,city varchar(255));\")\n",
    "print(mycursor)"
   ]
  },
  {
   "cell_type": "code",
   "execution_count": 9,
   "metadata": {},
   "outputs": [],
   "source": [
    "#use execute many, which will take a command\n",
    "#and then a list of values to pass.\n",
    "\n",
    "sql = \"insert into persons (last_name,first_name,age,city) VALUES (%s, %s, %s, %s);\"\n",
    "val = [\n",
    "  ('Planck','Max',73,'Kiel'),\n",
    "  ('Schrodinger','Erwin',73,'Vienna'),\n",
    "  ('Feynman','Richard',69,'New York'),\n",
    "  ('Oppenheimer','Robert',62,'New York')\n",
    "]\n",
    "\n",
    "mycursor.executemany(sql, val)\n",
    "mydb.commit()"
   ]
  },
  {
   "cell_type": "code",
   "execution_count": 24,
   "metadata": {},
   "outputs": [
    {
     "name": "stdout",
     "output_type": "stream",
     "text": [
      "(1, 'Planck', 'Max', 73, 'Boston')\n",
      "(2, 'Schrodinger', 'Erwin', 73, 'Vienna')\n",
      "(3, 'Feynman', 'Richard', 69, 'New York')\n",
      "(4, 'Oppenheimer', 'Robert', 62, 'New York')\n",
      "(5, 'Planck', 'Max', 73, 'Kiel')\n",
      "(6, 'Schrodinger', 'Erwin', 73, 'Vienna')\n",
      "(7, 'Feynman', 'Richard', 69, 'New York')\n",
      "(8, 'Oppenheimer', 'Robert', 62, 'New York')\n"
     ]
    }
   ],
   "source": [
    "#lets run some select statements, starting with selecting everything\n",
    "mycursor.execute(\"SELECT * FROM persons;\")\n",
    "records = mycursor.fetchall()\n",
    "for x in records:\n",
    "  print(x)"
   ]
  },
  {
   "cell_type": "code",
   "execution_count": 11,
   "metadata": {},
   "outputs": [
    {
     "name": "stdout",
     "output_type": "stream",
     "text": [
      "('Planck', 'Max')\n",
      "('Schrodinger', 'Erwin')\n",
      "('Feynman', 'Richard')\n",
      "('Oppenheimer', 'Robert')\n",
      "('Planck', 'Max')\n",
      "('Schrodinger', 'Erwin')\n",
      "('Feynman', 'Richard')\n",
      "('Oppenheimer', 'Robert')\n"
     ]
    }
   ],
   "source": [
    "#Now just last and first name\n",
    "mycursor.execute(\"SELECT last_name, first_name FROM persons;\")\n",
    "records = mycursor.fetchall()\n",
    "for x in records:\n",
    "  print(x)"
   ]
  },
  {
   "cell_type": "code",
   "execution_count": 12,
   "metadata": {},
   "outputs": [
    {
     "name": "stdout",
     "output_type": "stream",
     "text": [
      "('Planck', 'Max')\n",
      "('Schrodinger', 'Erwin')\n",
      "('Planck', 'Max')\n",
      "('Schrodinger', 'Erwin')\n"
     ]
    }
   ],
   "source": [
    "#Now just last and first name where the age is greater than 69\n",
    "mycursor.execute(\"SELECT last_name, first_name FROM persons WHERE age > 69;\")\n",
    "records = mycursor.fetchall()\n",
    "for x in records:\n",
    "  print(x)"
   ]
  },
  {
   "cell_type": "code",
   "execution_count": 13,
   "metadata": {},
   "outputs": [
    {
     "name": "stdout",
     "output_type": "stream",
     "text": [
      "(73,)\n",
      "(73,)\n",
      "(69,)\n",
      "(62,)\n",
      "(73,)\n",
      "(73,)\n",
      "(69,)\n",
      "(62,)\n"
     ]
    }
   ],
   "source": [
    "#Now just the ages\n",
    "mycursor.execute(\"SELECT age FROM persons;\")\n",
    "records = mycursor.fetchall()\n",
    "for x in records:\n",
    "  print(x)"
   ]
  },
  {
   "cell_type": "code",
   "execution_count": 14,
   "metadata": {},
   "outputs": [
    {
     "name": "stdout",
     "output_type": "stream",
     "text": [
      "(73,)\n",
      "(69,)\n",
      "(62,)\n"
     ]
    }
   ],
   "source": [
    "#Now just the unique ages\n",
    "mycursor.execute(\"SELECT DISTINCT(age) FROM persons;\")\n",
    "records = mycursor.fetchall()\n",
    "for x in records:\n",
    "  print(x)"
   ]
  },
  {
   "cell_type": "code",
   "execution_count": 15,
   "metadata": {},
   "outputs": [
    {
     "name": "stdout",
     "output_type": "stream",
     "text": [
      "(1, 'Planck', 'Max', 73, 'Kiel')\n",
      "(5, 'Planck', 'Max', 73, 'Kiel')\n"
     ]
    }
   ],
   "source": [
    "#Now where last_name is Planck and first name starts with M\n",
    "mycursor.execute('SELECT * FROM persons WHERE last_name =\"Planck\" and first_name like \"M%\";')\n",
    "records = mycursor.fetchall()\n",
    "for x in records:\n",
    "  print(x)"
   ]
  },
  {
   "cell_type": "code",
   "execution_count": 16,
   "metadata": {},
   "outputs": [
    {
     "name": "stdout",
     "output_type": "stream",
     "text": [
      "(1, 'Planck', 'Max', 73, 'Kiel')\n",
      "(2, 'Schrodinger', 'Erwin', 73, 'Vienna')\n",
      "(5, 'Planck', 'Max', 73, 'Kiel')\n",
      "(6, 'Schrodinger', 'Erwin', 73, 'Vienna')\n"
     ]
    }
   ],
   "source": [
    "#Now where first starts with M or last is Schrodinger\n",
    "mycursor.execute('SELECT * FROM persons WHERE first_name like \"M%\" OR last_name=\"Schrodinger\";')\n",
    "records = mycursor.fetchall()\n",
    "for x in records:\n",
    "  print(x)"
   ]
  },
  {
   "cell_type": "code",
   "execution_count": 22,
   "metadata": {},
   "outputs": [
    {
     "name": "stdout",
     "output_type": "stream",
     "text": [
      "(2, 'Schrodinger', 'Erwin', 73, 'Vienna')\n",
      "(3, 'Feynman', 'Richard', 69, 'New York')\n",
      "(4, 'Oppenheimer', 'Robert', 62, 'New York')\n",
      "(6, 'Schrodinger', 'Erwin', 73, 'Vienna')\n",
      "(7, 'Feynman', 'Richard', 69, 'New York')\n",
      "(8, 'Oppenheimer', 'Robert', 62, 'New York')\n"
     ]
    }
   ],
   "source": [
    "#Now everyone whose name doesn't start with M\n",
    "mycursor.execute('SELECT * FROM persons WHERE NOT first_name like \"M%\";')\n",
    "records = mycursor.fetchall()\n",
    "for x in records:\n",
    "  print(x)"
   ]
  },
  {
   "cell_type": "code",
   "execution_count": 25,
   "metadata": {},
   "outputs": [
    {
     "name": "stdout",
     "output_type": "stream",
     "text": [
      "(1, 'Planck', 'Max', 73, 'Indy')\n"
     ]
    }
   ],
   "source": [
    "#Let's update the person with id = 1 city to Boston\n",
    "mycursor.execute('UPDATE persons SET city=\"Boston\" WHERE id = 1;')\n",
    "\n",
    "mycursor.execute('SELECT * FROM persons WHERE id = 1;')\n",
    "records = mycursor.fetchall()\n",
    "for x in records:\n",
    "  print(x)"
   ]
  },
  {
   "cell_type": "code",
   "execution_count": 26,
   "metadata": {},
   "outputs": [
    {
     "name": "stdout",
     "output_type": "stream",
     "text": [
      "(1, 'Planck', 'Max', 73, 'Kiel')\n",
      "(2, 'Schrodinger', 'Erwin', 73, 'Vienna')\n",
      "(3, 'Feynman', 'Richard', 69, 'New York')\n",
      "(4, 'Oppenheimer', 'Robert', 62, 'New York')\n",
      "(5, 'Planck', 'Max', 73, 'Kiel')\n",
      "(6, 'Schrodinger', 'Erwin', 73, 'Vienna')\n",
      "(7, 'Feynman', 'Richard', 69, 'New York')\n",
      "(8, 'Oppenheimer', 'Robert', 62, 'New York')\n"
     ]
    }
   ],
   "source": [
    "#Let's update the person with first name Max to Kiel\n",
    "mycursor.execute('UPDATE persons SET city=\"Kiel\" WHERE first_name = \"Max\";')\n",
    "\n",
    "mycursor.execute('SELECT * FROM persons;')\n",
    "records = mycursor.fetchall()\n",
    "for x in records:\n",
    "  print(x)"
   ]
  },
  {
   "cell_type": "code",
   "execution_count": 27,
   "metadata": {},
   "outputs": [
    {
     "name": "stdout",
     "output_type": "stream",
     "text": [
      "(1, 'Planck', 'Max', 73, 'Kiel')\n",
      "(2, 'Schrodinger', 'Erwin', 73, 'Vienna')\n",
      "(3, 'Feynman', 'Richard', 69, 'San Francisco')\n",
      "(4, 'Oppenheimer', 'Robert', 62, 'San Francisco')\n",
      "(5, 'Planck', 'Max', 73, 'Kiel')\n",
      "(6, 'Schrodinger', 'Erwin', 73, 'Vienna')\n",
      "(7, 'Feynman', 'Richard', 69, 'San Francisco')\n",
      "(8, 'Oppenheimer', 'Robert', 62, 'San Francisco')\n"
     ]
    }
   ],
   "source": [
    "#Let's update everyone who lives in New York to San Francisco\n",
    "mycursor.execute('UPDATE persons SET city=\"San Francisco\" WHERE city = \"New York\";')\n",
    "\n",
    "mycursor.execute('SELECT * FROM persons;')\n",
    "records = mycursor.fetchall()\n",
    "for x in records:\n",
    "  print(x)"
   ]
  },
  {
   "cell_type": "code",
   "execution_count": 28,
   "metadata": {},
   "outputs": [
    {
     "name": "stdout",
     "output_type": "stream",
     "text": [
      "(3, 'Feynman', 'Richard', 69, 'San Francisco')\n",
      "(4, 'Oppenheimer', 'Robert', 62, 'San Francisco')\n",
      "(7, 'Feynman', 'Richard', 69, 'San Francisco')\n",
      "(8, 'Oppenheimer', 'Robert', 62, 'San Francisco')\n"
     ]
    }
   ],
   "source": [
    "#now lets try deleting data where the age > 69\n",
    "mycursor.execute('DELETE FROM persons WHERE age > 69;')\n",
    "\n",
    "mycursor.execute('SELECT * FROM persons;')\n",
    "records = mycursor.fetchall()\n",
    "for x in records:\n",
    "  print(x)"
   ]
  },
  {
   "cell_type": "code",
   "execution_count": 29,
   "metadata": {},
   "outputs": [],
   "source": [
    "#now lets try deleting all data\n",
    "mycursor.execute('DELETE FROM persons;')\n",
    "\n",
    "mycursor.execute('SELECT * FROM persons;')\n",
    "records = mycursor.fetchall()\n",
    "for x in records:\n",
    "  print(x)"
   ]
  },
  {
   "cell_type": "code",
   "execution_count": 30,
   "metadata": {},
   "outputs": [
    {
     "name": "stdout",
     "output_type": "stream",
     "text": [
      "(9, 'Planck', 'Max', 73, 'Kiel')\n",
      "(10, 'Schrodinger', 'Erwin', 73, 'Vienna')\n",
      "(11, 'Feynman', 'Richard', 69, 'New York')\n",
      "(12, 'Oppenheimer', 'Robert', 62, 'New York')\n"
     ]
    }
   ],
   "source": [
    "#Let's put the data back\n",
    "\n",
    "sql = \"insert into persons (last_name,first_name,age,city) VALUES (%s, %s, %s, %s);\"\n",
    "val = [\n",
    "  ('Planck','Max',73,'Kiel'),\n",
    "  ('Schrodinger','Erwin',73,'Vienna'),\n",
    "  ('Feynman','Richard',69,'New York'),\n",
    "  ('Oppenheimer','Robert',62,'New York')\n",
    "]\n",
    "\n",
    "mycursor.executemany(sql, val)\n",
    "\n",
    "mydb.commit()\n",
    "mycursor.execute('SELECT * FROM persons;')\n",
    "records = mycursor.fetchall()\n",
    "for x in records:\n",
    "  print(x)"
   ]
  },
  {
   "cell_type": "code",
   "execution_count": 31,
   "metadata": {},
   "outputs": [
    {
     "name": "stdout",
     "output_type": "stream",
     "text": [
      "(1, 'Planck', 'Max', 73, 'Kiel')\n",
      "(2, 'Schrodinger', 'Erwin', 73, 'Vienna')\n",
      "(3, 'Feynman', 'Richard', 69, 'New York')\n",
      "(4, 'Oppenheimer', 'Robert', 62, 'New York')\n"
     ]
    }
   ],
   "source": [
    "#note that the ID's are not reset\n",
    "#lets fix that with truncate\n",
    "\n",
    "mycursor.execute('TRUNCATE TABLE persons;')\n",
    "\n",
    "sql = \"insert into persons (last_name,first_name,age,city) VALUES (%s, %s, %s, %s);\"\n",
    "val = [\n",
    "  ('Planck','Max',73,'Kiel'),\n",
    "  ('Schrodinger','Erwin',73,'Vienna'),\n",
    "  ('Feynman','Richard',69,'New York'),\n",
    "  ('Oppenheimer','Robert',62,'New York')\n",
    "]\n",
    "\n",
    "mycursor.executemany(sql, val)\n",
    "mydb.commit()\n",
    "\n",
    "mycursor.execute('SELECT * FROM persons;')\n",
    "records = mycursor.fetchall()\n",
    "for x in records:\n",
    "  print(x)"
   ]
  },
  {
   "cell_type": "code",
   "execution_count": 32,
   "metadata": {},
   "outputs": [],
   "source": [
    "#let's alter our table to increase it's value\n",
    "\n",
    "#let's start by altering the name to be scientists\n",
    "mycursor.execute('ALTER TABLE persons RENAME TO scientists;')\n",
    "#PS. If you go back and execute prior code the table is now renamed\n",
    "\n",
    "#then we'll add another column, specialty\n",
    "#remember to use the new table name\n",
    "mycursor.execute('ALTER TABLE scientists ADD specialty VARCHAR(255);')\n",
    "\n",
    "#science doesn't care about the city\n",
    "#yeet it on out of here\n",
    "mycursor.execute('ALTER TABLE scientists DROP COLUMN city;')\n"
   ]
  },
  {
   "cell_type": "code",
   "execution_count": 34,
   "metadata": {},
   "outputs": [
    {
     "name": "stdout",
     "output_type": "stream",
     "text": [
      "(1, 'Planck', 'Max', 73, None)\n",
      "(2, 'Schrodinger', 'Erwin', 73, None)\n",
      "(3, 'Feynman', 'Richard', 69, None)\n",
      "(4, 'Oppenheimer', 'Robert', 62, None)\n"
     ]
    }
   ],
   "source": [
    "#lets take a look at our altered table\n",
    "mycursor.execute('SELECT * FROM scientists;')\n",
    "records = mycursor.fetchall()\n",
    "for x in records:\n",
    "  print(x)"
   ]
  },
  {
   "cell_type": "code",
   "execution_count": 35,
   "metadata": {},
   "outputs": [
    {
     "name": "stdout",
     "output_type": "stream",
     "text": [
      "MySQLCursorBuffered: CREATE TABLE customers (\n",
      "customer_id INT..\n",
      "MySQLCursorBuffered: CREATE TABLE purchases ( \n",
      "purchase_id IN..\n"
     ]
    }
   ],
   "source": [
    "#enough of scientists. Let's look at foreign key relationships\n",
    "#execute SQL commands using the cursor\n",
    "mycursor.execute(\"\"\"CREATE TABLE customers (\n",
    "customer_id INT NOT NULL, \n",
    "first_name VARCHAR(50) NOT NULL, \n",
    "last_name VARCHAR(50) NOT NULL, \n",
    "address VARCHAR(255) NOT NULL, \n",
    "age INT NOT NULL,\n",
    "PRIMARY KEY (customer_id));\"\"\")\n",
    "print(mycursor)\n",
    "\n",
    "#now create the purchase table that references customers\n",
    "mycursor.execute(\"\"\"CREATE TABLE purchases ( \n",
    "purchase_id INT NOT NULL PRIMARY KEY, \n",
    "customer_id INT NOT NULL REFERENCES customers(customer_id), \n",
    "date DATE NOT NULL , \n",
    "cost FLOAT NOT NULL);\"\"\")\n",
    "print(mycursor)"
   ]
  },
  {
   "cell_type": "code",
   "execution_count": 36,
   "metadata": {},
   "outputs": [],
   "source": [
    "#you can't insert into the child table first\n",
    "#Let's create a customer\n",
    "mycursor.execute('INSERT INTO customers (customer_id, first_name, last_name, address, age) VALUES (\"2\", \"John\", \"Burns\", \"Somewhere, USA\", \"37\");')\n",
    "mydb.commit()\n",
    "\n",
    "#now add a purchase\n",
    "mycursor.execute('INSERT INTO purchases (purchase_id, customer_id, date, cost) VALUES (\"110\", \"2\", \"2019-09-07\", \"12.00\");')\n",
    "mydb.commit()\n",
    "\n",
    "#take a look at the database to see how these look"
   ]
  },
  {
   "cell_type": "code",
   "execution_count": 37,
   "metadata": {},
   "outputs": [],
   "source": [
    "#now let's create our own grading system\n",
    "#consisting of students, courses, and grades\n",
    "mycursor.execute(\"\"\"CREATE TABLE student(\n",
    "id CHAR(4) NOT NULL PRIMARY KEY,\n",
    "first VARCHAR(255) NOT NULL, \n",
    "last VARCHAR(255) NOT NULL);\"\"\")\n",
    "\n",
    "mycursor.execute(\"\"\"CREATE TABLE course(\n",
    "code CHAR(3) NOT NULL PRIMARY KEY,  \n",
    "title VARCHAR(255) NOT NULL);\"\"\")\n",
    "\n",
    "mycursor.execute(\"\"\"CREATE TABLE grade(\n",
    "id CHAR(4) NOT NULL REFERENCES student(id),  \n",
    "code CHAR(3) NOT NULL REFERENCES course(code),  \n",
    "marks INT(11) NOT NULL);\"\"\")\n",
    "\n",
    "#now I'm making a fundemental mistake here\n",
    "#I've not properly named my ID's so it gets confusing, and I haven't given\n",
    "#the grades table it's own unique ID.\n",
    "#this could be a serious problem if a student has to retake a class.\n",
    "\n",
    "#but were going to forgive some of that for brevity."
   ]
  },
  {
   "cell_type": "code",
   "execution_count": 38,
   "metadata": {},
   "outputs": [],
   "source": [
    "#lets insert lots of data\n",
    "#first the students\n",
    "sql_student = \"insert into student (id, first, last) VALUES (%s, %s, %s);\"\n",
    "val_student = [\n",
    "    (\"S103\",\"John\",\"Smith\"),\n",
    "    (\"S104\",\"Mary\",\"Jones\"),\n",
    "    (\"S105\",\"Jane\",\"Brown\"),\n",
    "    (\"S106\",\"Mark\",\"Jones\"),\n",
    "    (\"S107\",\"John\",\"Brown\")\n",
    "]\n",
    "\n",
    "sql_course = \"insert into course (code, title) VALUES (%s, %s);\"\n",
    "val_course = [\n",
    "    (\"DBS\",\"Database Systems\"),\n",
    "    (\"PR1\",\"Programming 1\"),\n",
    "    (\"PR2\",\"Programming 2\"),\n",
    "    (\"IAI\",\"Intro to AI\")\n",
    "]\n",
    "\n",
    "sql_grade = \"insert into grade (id, code, marks) VALUES (%s, %s, %s);\"\n",
    "val_grade = [\n",
    "    (\"S103\",\"DBS\",72),\n",
    "    (\"S103\",\"IAI\",58),\n",
    "    (\"S104\",\"PR1\",68),\n",
    "    (\"S104\",\"IAI\",65),\n",
    "    (\"S106\",\"PR2\",43),\n",
    "    (\"S107\",\"PR1\",76),\n",
    "    (\"S107\",\"PR2\",60),\n",
    "    (\"S107\",\"IAI\",35)\n",
    "]\n",
    "\n",
    "\n",
    "mycursor.executemany(sql_student, val_student)\n",
    "mycursor.executemany(sql_course, val_course)\n",
    "mycursor.executemany(sql_grade, val_grade)\n",
    "\n"
   ]
  },
  {
   "cell_type": "code",
   "execution_count": 39,
   "metadata": {},
   "outputs": [],
   "source": [
    "mydb.commit()"
   ]
  },
  {
   "cell_type": "code",
   "execution_count": 40,
   "metadata": {},
   "outputs": [
    {
     "name": "stdout",
     "output_type": "stream",
     "text": [
      "('S103', 'John', 'Smith', 'S103', 'DBS', 72)\n",
      "('S104', 'Mary', 'Jones', 'S103', 'DBS', 72)\n",
      "('S105', 'Jane', 'Brown', 'S103', 'DBS', 72)\n",
      "('S106', 'Mark', 'Jones', 'S103', 'DBS', 72)\n",
      "('S107', 'John', 'Brown', 'S103', 'DBS', 72)\n",
      "('S103', 'John', 'Smith', 'S103', 'IAI', 58)\n",
      "('S104', 'Mary', 'Jones', 'S103', 'IAI', 58)\n",
      "('S105', 'Jane', 'Brown', 'S103', 'IAI', 58)\n",
      "('S106', 'Mark', 'Jones', 'S103', 'IAI', 58)\n",
      "('S107', 'John', 'Brown', 'S103', 'IAI', 58)\n",
      "('S103', 'John', 'Smith', 'S104', 'PR1', 68)\n",
      "('S104', 'Mary', 'Jones', 'S104', 'PR1', 68)\n",
      "('S105', 'Jane', 'Brown', 'S104', 'PR1', 68)\n",
      "('S106', 'Mark', 'Jones', 'S104', 'PR1', 68)\n",
      "('S107', 'John', 'Brown', 'S104', 'PR1', 68)\n",
      "('S103', 'John', 'Smith', 'S104', 'IAI', 65)\n",
      "('S104', 'Mary', 'Jones', 'S104', 'IAI', 65)\n",
      "('S105', 'Jane', 'Brown', 'S104', 'IAI', 65)\n",
      "('S106', 'Mark', 'Jones', 'S104', 'IAI', 65)\n",
      "('S107', 'John', 'Brown', 'S104', 'IAI', 65)\n",
      "('S103', 'John', 'Smith', 'S106', 'PR2', 43)\n",
      "('S104', 'Mary', 'Jones', 'S106', 'PR2', 43)\n",
      "('S105', 'Jane', 'Brown', 'S106', 'PR2', 43)\n",
      "('S106', 'Mark', 'Jones', 'S106', 'PR2', 43)\n",
      "('S107', 'John', 'Brown', 'S106', 'PR2', 43)\n",
      "('S103', 'John', 'Smith', 'S107', 'PR1', 76)\n",
      "('S104', 'Mary', 'Jones', 'S107', 'PR1', 76)\n",
      "('S105', 'Jane', 'Brown', 'S107', 'PR1', 76)\n",
      "('S106', 'Mark', 'Jones', 'S107', 'PR1', 76)\n",
      "('S107', 'John', 'Brown', 'S107', 'PR1', 76)\n",
      "('S103', 'John', 'Smith', 'S107', 'PR2', 60)\n",
      "('S104', 'Mary', 'Jones', 'S107', 'PR2', 60)\n",
      "('S105', 'Jane', 'Brown', 'S107', 'PR2', 60)\n",
      "('S106', 'Mark', 'Jones', 'S107', 'PR2', 60)\n",
      "('S107', 'John', 'Brown', 'S107', 'PR2', 60)\n",
      "('S103', 'John', 'Smith', 'S107', 'IAI', 35)\n",
      "('S104', 'Mary', 'Jones', 'S107', 'IAI', 35)\n",
      "('S105', 'Jane', 'Brown', 'S107', 'IAI', 35)\n",
      "('S106', 'Mark', 'Jones', 'S107', 'IAI', 35)\n",
      "('S107', 'John', 'Brown', 'S107', 'IAI', 35)\n"
     ]
    }
   ],
   "source": [
    "#cross product\n",
    "mycursor.execute('SELECT * FROM student,grade;')\n",
    "records = mycursor.fetchall()\n",
    "for x in records:\n",
    "  print(x)"
   ]
  },
  {
   "cell_type": "code",
   "execution_count": 41,
   "metadata": {},
   "outputs": [
    {
     "name": "stdout",
     "output_type": "stream",
     "text": [
      "('S103', 'John', 'Smith', 'S103', 'DBS', 72)\n",
      "('S103', 'John', 'Smith', 'S103', 'IAI', 58)\n",
      "('S104', 'Mary', 'Jones', 'S104', 'PR1', 68)\n",
      "('S104', 'Mary', 'Jones', 'S104', 'IAI', 65)\n",
      "('S106', 'Mark', 'Jones', 'S106', 'PR2', 43)\n",
      "('S107', 'John', 'Brown', 'S107', 'PR1', 76)\n",
      "('S107', 'John', 'Brown', 'S107', 'PR2', 60)\n",
      "('S107', 'John', 'Brown', 'S107', 'IAI', 35)\n"
     ]
    }
   ],
   "source": [
    "#a more rational select\n",
    "mycursor.execute('SELECT * FROM student,grade where (student.id = grade.id);')\n",
    "records = mycursor.fetchall()\n",
    "for x in records:\n",
    "  print(x)\n",
    "\n",
    "#note that python uses ==\n",
    "#and mysql uses =\n",
    "#for comparisons"
   ]
  },
  {
   "cell_type": "code",
   "execution_count": 42,
   "metadata": {},
   "outputs": [
    {
     "name": "stdout",
     "output_type": "stream",
     "text": [
      "('S103', 'John', 'Smith', 'S103', 'DBS', 72)\n",
      "('S103', 'John', 'Smith', 'S103', 'IAI', 58)\n",
      "('S104', 'Mary', 'Jones', 'S104', 'PR1', 68)\n",
      "('S104', 'Mary', 'Jones', 'S104', 'IAI', 65)\n",
      "('S106', 'Mark', 'Jones', 'S106', 'PR2', 43)\n",
      "('S107', 'John', 'Brown', 'S107', 'PR1', 76)\n",
      "('S107', 'John', 'Brown', 'S107', 'PR2', 60)\n"
     ]
    }
   ],
   "source": [
    "#we can add additional constraints as appropriate.\n",
    "mycursor.execute('SELECT * FROM student,grade where (student.id = grade.id) and marks >= 40;')\n",
    "records = mycursor.fetchall()\n",
    "for x in records:\n",
    "  print(x)"
   ]
  },
  {
   "cell_type": "code",
   "execution_count": 43,
   "metadata": {},
   "outputs": [
    {
     "name": "stdout",
     "output_type": "stream",
     "text": [
      "('John', 'Smith', 72)\n",
      "('John', 'Smith', 58)\n",
      "('Mary', 'Jones', 68)\n",
      "('Mary', 'Jones', 65)\n",
      "('Mark', 'Jones', 43)\n",
      "('John', 'Brown', 76)\n",
      "('John', 'Brown', 60)\n"
     ]
    }
   ],
   "source": [
    "#And constrain the columns that come back\n",
    "mycursor.execute('SELECT first, last, marks FROM student,grade where (student.id = grade.id) and marks >= 40;')\n",
    "records = mycursor.fetchall()\n",
    "for x in records:\n",
    "  print(x)"
   ]
  },
  {
   "cell_type": "code",
   "execution_count": 52,
   "metadata": {},
   "outputs": [
    {
     "name": "stdout",
     "output_type": "stream",
     "text": [
      "(72, 'John', 'Smith', 'Database Systems')\n",
      "(58, 'John', 'Smith', 'Intro to AI')\n",
      "(65, 'Mary', 'Jones', 'Intro to AI')\n",
      "(35, 'John', 'Brown', 'Intro to AI')\n",
      "(68, 'Mary', 'Jones', 'Programming 1')\n",
      "(76, 'John', 'Brown', 'Programming 1')\n",
      "(43, 'Mark', 'Jones', 'Programming 2')\n",
      "(60, 'John', 'Brown', 'Programming 2')\n"
     ]
    }
   ],
   "source": [
    "#Now lets get all 3 tables\n",
    "mycursor.execute('SELECT marks, first, last, title FROM course, student, grade where student.id = grade.id and course.code = grade.code;')\n",
    "records = mycursor.fetchall()\n",
    "for x in records:\n",
    "  print(x)"
   ]
  },
  {
   "cell_type": "code",
   "execution_count": 53,
   "metadata": {},
   "outputs": [],
   "source": [
    "mydb.close()"
   ]
  }
 ],
 "metadata": {
  "kernelspec": {
   "display_name": "Python 3 (ipykernel)",
   "language": "python",
   "name": "python3"
  },
  "language_info": {
   "codemirror_mode": {
    "name": "ipython",
    "version": 3
   },
   "file_extension": ".py",
   "mimetype": "text/x-python",
   "name": "python",
   "nbconvert_exporter": "python",
   "pygments_lexer": "ipython3",
   "version": "3.9.12"
  }
 },
 "nbformat": 4,
 "nbformat_minor": 2
}
